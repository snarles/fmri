{
 "cells": [
  {
   "cell_type": "code",
   "execution_count": 1,
   "metadata": {},
   "outputs": [
    {
     "name": "stderr",
     "output_type": "stream",
     "text": [
      "R.matlab v3.6.1 (2016-10-19) successfully loaded. See ?R.matlab for help.\n",
      "\n",
      "Attaching package: ‘R.matlab’\n",
      "\n",
      "The following objects are masked from ‘package:base’:\n",
      "\n",
      "    getOption, isOpen\n",
      "\n"
     ]
    }
   ],
   "source": [
    "library(R.matlab)\n",
    "library(pracma)\n",
    "library(parallel)\n",
    "mcc <- 20"
   ]
  },
  {
   "cell_type": "code",
   "execution_count": 2,
   "metadata": {},
   "outputs": [],
   "source": [
    "fcs1 = readMat(gzfile(\"/data/SharedData/fingerprint_data/FL_Matrices/All_Sub_REST1_FL.mat.gz\"))"
   ]
  },
  {
   "cell_type": "code",
   "execution_count": 3,
   "metadata": {},
   "outputs": [],
   "source": [
    "fcs2 = readMat(gzfile(\"/data/SharedData/fingerprint_data/FL_Matrices/All_Sub_REST2_FL.mat.gz\"))"
   ]
  },
  {
   "cell_type": "code",
   "execution_count": 4,
   "metadata": {},
   "outputs": [
    {
     "data": {
      "text/html": [
       "<ol class=list-inline>\n",
       "\t<li>338</li>\n",
       "\t<li>268</li>\n",
       "\t<li>268</li>\n",
       "</ol>\n"
      ],
      "text/latex": [
       "\\begin{enumerate*}\n",
       "\\item 338\n",
       "\\item 268\n",
       "\\item 268\n",
       "\\end{enumerate*}\n"
      ],
      "text/markdown": [
       "1. 338\n",
       "2. 268\n",
       "3. 268\n",
       "\n",
       "\n"
      ],
      "text/plain": [
       "[1] 338 268 268"
      ]
     },
     "metadata": {},
     "output_type": "display_data"
    }
   ],
   "source": [
    "dim(fcs1[[1]])"
   ]
  },
  {
   "cell_type": "code",
   "execution_count": 5,
   "metadata": {},
   "outputs": [
    {
     "data": {
      "text/html": [
       "<ol class=list-inline>\n",
       "\t<li>338</li>\n",
       "\t<li>268</li>\n",
       "\t<li>268</li>\n",
       "</ol>\n"
      ],
      "text/latex": [
       "\\begin{enumerate*}\n",
       "\\item 338\n",
       "\\item 268\n",
       "\\item 268\n",
       "\\end{enumerate*}\n"
      ],
      "text/markdown": [
       "1. 338\n",
       "2. 268\n",
       "3. 268\n",
       "\n",
       "\n"
      ],
      "text/plain": [
       "[1] 338 268 268"
      ]
     },
     "metadata": {},
     "output_type": "display_data"
    }
   ],
   "source": [
    "dim(fcs2[[1]])"
   ]
  },
  {
   "cell_type": "code",
   "execution_count": null,
   "metadata": {},
   "outputs": [],
   "source": [
    "fc_flatten <- function(arr) {\n",
    "  apply(arr, 1, function(a) {\n",
    "    a[upper.tri(a)]\n",
    "  })\n",
    "}\n",
    "\n",
    "\n",
    "nsubs <- nrow(fcs1[[1]])\n",
    "## shuffle subjects\n",
    "shufind <- sample(nsubs, nsubs, replace = FALSE)\n",
    "\n",
    "fcz1 <- fc_flatten(fcs1[[1]])\n",
    "fcz2 <- fc_flatten(fcs2[[1]])"
   ]
  },
  {
   "cell_type": "code",
   "execution_count": null,
   "metadata": {},
   "outputs": [],
   "source": [
    "r12 <- cor(fcz1, fcz2)"
   ]
  },
  {
   "cell_type": "code",
   "execution_count": null,
   "metadata": {},
   "outputs": [],
   "source": [
    "mats1 <- fcs1[[1]]\n",
    "mats2 <- fcs2[[1]]"
   ]
  },
  {
   "cell_type": "code",
   "execution_count": null,
   "metadata": {},
   "outputs": [],
   "source": [
    "nsubs1 <- 338\n",
    "nsubs2 <- 338\n",
    "\n",
    "ijs <- apply(cbind(rep(1:nsubs1, each=nsubs2), rep(1:nsubs2, nsubs1)), 1, list)\n",
    "get_kl_subroutine <- function(ij) {\n",
    "  i <- ij[[1]][1]\n",
    "  j <- ij[[1]][2]\n",
    "  vstuff <- solve(mats1[i,,], mats2[j,,])\n",
    "  vstuff2 <- solve(mats2[i,,], mats1[j,,])  \n",
    "  pmin(sum(diag(vstuff)) - log(det(vstuff)), sum(diag(vstuff2)) - log(det(vstuff2)))\n",
    "}\n",
    "\n",
    "get_kl_subroutine1 <- function(ij) {\n",
    "  i <- ij[[1]][1]\n",
    "  j <- ij[[1]][2]\n",
    "  vstuff <- solve(mats1[i,,], mats2[j,,])\n",
    "  sum(diag(vstuff)) - log(det(vstuff))\n",
    "}\n",
    "\n",
    "t1 <- proc.time()\n",
    "kls <- mclapply(ijs, get_kl_subroutine, mc.cores = mcc)\n",
    "proc.time() - t1\n",
    "\n",
    "klds <- t(matrix(unlist(kls), nsubs2, nsubs1))"
   ]
  },
  {
   "cell_type": "code",
   "execution_count": null,
   "metadata": {},
   "outputs": [],
   "source": [
    "dim(klds)"
   ]
  },
  {
   "cell_type": "code",
   "execution_count": null,
   "metadata": {},
   "outputs": [],
   "source": [
    "write.csv(klds, 'FL_noGSR_kl.csv', row.names = FALSE)"
   ]
  },
  {
   "cell_type": "code",
   "execution_count": null,
   "metadata": {},
   "outputs": [],
   "source": [
    "write.csv(r12, 'FL_noGSR_cor.csv', row.names = FALSE)"
   ]
  },
  {
   "cell_type": "code",
   "execution_count": null,
   "metadata": {},
   "outputs": [],
   "source": []
  }
 ],
 "metadata": {
  "kernelspec": {
   "display_name": "R",
   "language": "R",
   "name": "ir"
  },
  "language_info": {
   "codemirror_mode": "r",
   "file_extension": ".r",
   "mimetype": "text/x-r-source",
   "name": "R",
   "pygments_lexer": "r",
   "version": "3.5.1"
  }
 },
 "nbformat": 4,
 "nbformat_minor": 2
}
